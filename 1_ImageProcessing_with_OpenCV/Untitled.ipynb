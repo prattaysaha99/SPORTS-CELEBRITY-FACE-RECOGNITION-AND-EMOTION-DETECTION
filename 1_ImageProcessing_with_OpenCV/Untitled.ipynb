{
 "cells": [
  {
   "cell_type": "code",
   "execution_count": 1,
   "id": "df876bd7",
   "metadata": {},
   "outputs": [],
   "source": [
    "import cv2\n",
    "import numpy as np"
   ]
  },
  {
   "cell_type": "code",
   "execution_count": 2,
   "id": "71127612",
   "metadata": {},
   "outputs": [],
   "source": [
    "canvas = np.zeros((300,300,3),dtype='uint8')"
   ]
  },
  {
   "cell_type": "code",
   "execution_count": 3,
   "id": "4b9053b4",
   "metadata": {},
   "outputs": [],
   "source": [
    "cv2.imshow('canvas',canvas)\n",
    "cv2.waitKey(0)\n",
    "cv2.destroyAllWindows()"
   ]
  },
  {
   "cell_type": "code",
   "execution_count": 7,
   "id": "2d96fe6c",
   "metadata": {},
   "outputs": [],
   "source": [
    "pt1 = (0,0)\n",
    "pt2 = (300,300)\n",
    "color = (0,255,0)\n",
    "cv2.line(canvas,pt1, pt2,color,)\n",
    "pt3 = (0,300)\n",
    "pt4 = (300,0)\n",
    "color1 = (255,0,0)\n",
    "cv2.line(canvas,pt3,pt4,color1,)\n",
    "cv2.imshow('cavas',canvas)\n",
    "cv2.waitKey(0)\n",
    "cv2.destroyAllWindows()"
   ]
  },
  {
   "cell_type": "code",
   "execution_count": null,
   "id": "ad300e1a",
   "metadata": {},
   "outputs": [],
   "source": []
  }
 ],
 "metadata": {
  "kernelspec": {
   "display_name": "Python 3 (ipykernel)",
   "language": "python",
   "name": "python3"
  },
  "language_info": {
   "codemirror_mode": {
    "name": "ipython",
    "version": 3
   },
   "file_extension": ".py",
   "mimetype": "text/x-python",
   "name": "python",
   "nbconvert_exporter": "python",
   "pygments_lexer": "ipython3",
   "version": "3.9.7"
  }
 },
 "nbformat": 4,
 "nbformat_minor": 5
}
